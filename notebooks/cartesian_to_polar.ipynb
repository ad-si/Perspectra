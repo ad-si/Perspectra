{
 "cells": [
  {
   "cell_type": "markdown",
   "id": "5bb8d7f0-71d0-46b9-8cbc-3971fc42a15d",
   "metadata": {
    "tags": []
   },
   "source": [
    "# Cartesian to Polar"
   ]
  },
  {
   "cell_type": "code",
   "execution_count": 1,
   "id": "4de62068-b916-4abd-bddc-819bf9cf66ef",
   "metadata": {
    "tags": []
   },
   "outputs": [
    {
     "data": {
      "image/png": "[encoded data removed]",
      "text/plain": [
       "<Figure size 640x480 with 1 Axes>"
      ]
     },
     "metadata": {},
     "output_type": "display_data"
    }
   ],
   "source": [
    "import numpy as np\n",
    "import matplotlib.pyplot as plt\n",
    "\n",
    "img_size = (250, 200)\n",
    "corner_points = np.array([\n",
    "    [ 14,  46],\n",
    "    [ 14, 140],\n",
    "    [234, 144],\n",
    "    [234,  47],\n",
    "    [ 44,  30],\n",
    "])\n",
    "\n",
    "\n",
    "def draw_points(points):\n",
    "    canvas = np.zeros(img_size)\n",
    "\n",
    "    fig, ax = plt.subplots()\n",
    "    ax.set_xlim(0, canvas.shape[1])\n",
    "    ax.set_ylim(canvas.shape[0], 0)\n",
    "    ax.set_aspect('equal')\n",
    "\n",
    "    # Draw polygon\n",
    "    polygon = plt.Polygon(\n",
    "        np.flip(points),\n",
    "        edgecolor='lightgray', \n",
    "        fill=None,\n",
    "        linewidth=1,\n",
    "    )\n",
    "    ax.add_patch(polygon)\n",
    "\n",
    "    # Draw points and angle text\n",
    "    for point in points:\n",
    "        ax.scatter(point[1], point[0], marker='x')\n",
    "\n",
    "    plt.show()\n",
    "\n",
    "    \n",
    "draw_points(corner_points)"
   ]
  },
  {
   "cell_type": "code",
   "execution_count": 9,
   "id": "64f75733-5e8f-4758-8ef4-fb9c7573cffa",
   "metadata": {
    "tags": []
   },
   "outputs": [
    {
     "data": {
      "text/plain": [
       "array([[ 48.08326112, 343.07248694],\n",
       "       [140.6982587 , 354.28940686],\n",
       "       [274.7580754 , 301.60750225],\n",
       "       [238.67341704, 281.35701199],\n",
       "       [ 53.25410782, 304.28687698]])"
      ]
     },
     "execution_count": 9,
     "metadata": {},
     "output_type": "execute_result"
    }
   ],
   "source": [
    "import doctest\n",
    "\n",
    "\n",
    "def draw_points_origin(points, rowOffset, colOffset):\n",
    "    canvas = np.zeros(img_size)\n",
    "\n",
    "    fig, ax = plt.subplots()\n",
    "    ax.set_xlim(-colOffset, colOffset)\n",
    "    ax.set_ylim(-rowOffset, rowOffset)\n",
    "    ax.set_aspect('equal')\n",
    "\n",
    "    # Draw polygon\n",
    "    polygon = plt.Polygon(\n",
    "        np.flip(points),\n",
    "        edgecolor='lightgray', \n",
    "        fill=None,\n",
    "        linewidth=1,\n",
    "    )\n",
    "    ax.add_patch(polygon)\n",
    "\n",
    "    # Draw points and angle text\n",
    "    for point in points:\n",
    "        ax.scatter(point[1], point[0], marker='x')\n",
    "\n",
    "    plt.show()\n",
    "    \n",
    "\n",
    "def cartesian_to_polar(points):\n",
    "    \"\"\"\n",
    "    >>> cartesian_to_polar(np.array([[-1,1], [-1,-1], [1,-1], [1,1]]))\n",
    "    array([[  1.41421356,  45.        ],\n",
    "           [  1.41421356, 135.        ],\n",
    "           [  1.41421356, 225.        ],\n",
    "           [  1.41421356, 315.        ]])\n",
    "    \"\"\"\n",
    "    x, y = points[:, 1], points[:, 0]\n",
    "    r = np.hypot(x, y)\n",
    "    thetas = np.arctan2(y, x)\n",
    "    \n",
    "    def norm_theta(theta):\n",
    "        if theta < 0:\n",
    "            return -theta\n",
    "        else:\n",
    "            return -(theta - 360)\n",
    "            \n",
    "    v_norm_theta = np.vectorize(norm_theta)\n",
    "            \n",
    "    thetas_norm = v_norm_theta(np.degrees(thetas))\n",
    "    \n",
    "    polar_points = np.column_stack((r, thetas_norm))\n",
    "    \n",
    "    return polar_points\n",
    "\n",
    "cartesian_to_polar(corner_points)"
   ]
  },
  {
   "cell_type": "code",
   "execution_count": 19,
   "id": "816f627c-8dd9-4c69-96db-5ce226a274e2",
   "metadata": {
    "tags": []
   },
   "outputs": [
    {
     "data": {
      "text/plain": [
       "TestResults(failed=0, attempted=6)"
      ]
     },
     "execution_count": 19,
     "metadata": {},
     "output_type": "execute_result"
    }
   ],
   "source": [
    "def get_sorted_corners(img_size, corners):\n",
    "    \"\"\"\n",
    "    Corners sorted from upper left corner (smallest row, column) clockwise\n",
    "    \n",
    "    >>> get_sorted_corners((0, 0), np.array([[-1,-1], [-1,1], [1,-1], [1,1]]))\n",
    "    array([[-1, -1],\n",
    "           [-1,  1],\n",
    "           [ 1,  1],\n",
    "           [ 1, -1]])\n",
    "    \n",
    "    >>> get_sorted_corners((250, 200), np.array([\n",
    "    ...     [ 14,  46],\n",
    "    ...     [234, 144],\n",
    "    ...     [ 14, 140],\n",
    "    ...     [234,  47],\n",
    "    ...     [ 44,  30],\n",
    "    ... ]))\n",
    "    array([[ 14,  46],\n",
    "           [ 14, 140],\n",
    "           [234, 144],\n",
    "           [234,  47],\n",
    "           [ 44,  30]])\n",
    "    \"\"\"\n",
    "    # Shift coordinate sytem\n",
    "    rowOffset = (img_size[0] / 2)\n",
    "    colOffset = (img_size[1] / 2)\n",
    "    \n",
    "    moved_corner_points = corners - np.array([rowOffset, colOffset])\n",
    "    \n",
    "    polar_points = cartesian_to_polar(moved_corner_points)\n",
    "    \n",
    "    indices = np.argsort(polar_points[:, 1])\n",
    "    corners_sorted = corners[indices][::-1]\n",
    "    \n",
    "    left_uppermost_index = np.argmin(np.sum(corners_sorted, axis=1))\n",
    "    shifted_corner_points = np.roll(corners_sorted, -left_uppermost_index, axis=0)\n",
    "    \n",
    "    return shifted_corner_points\n",
    "\n",
    "\n",
    "\"\"\"\n",
    ">>> get_sorted_corners(img_size, np.random.permutation(corner_points))\n",
    "array([[ 14,  46],\n",
    "       [ 14, 140],\n",
    "       [234, 144],\n",
    "       [234,  47],\n",
    "       [ 44,  30]])\n",
    "       \n",
    ">>> get_sorted_corners(img_size, np.random.permutation(corner_points))\n",
    "array([[ 14,  46],\n",
    "       [ 14, 140],\n",
    "       [234, 144],\n",
    "       [234,  47],\n",
    "       [ 44,  30]])\n",
    "       \n",
    ">>> get_sorted_corners(img_size, np.random.permutation(corner_points))\n",
    "array([[ 14,  46],\n",
    "       [ 14, 140],\n",
    "       [234, 144],\n",
    "       [234,  47],\n",
    "       [ 44,  30]])\n",
    "\"\"\"\n",
    "\n",
    "doctest.testmod()"
   ]
  }
 ],
 "metadata": {
  "kernelspec": {
   "display_name": "Python 3 (ipykernel)",
   "language": "python",
   "name": "python3"
  },
  "language_info": {
   "codemirror_mode": {
    "name": "ipython",
    "version": 3
   },
   "file_extension": ".py",
   "mimetype": "text/x-python",
   "name": "python",
   "nbconvert_exporter": "python",
   "pygments_lexer": "ipython3",
   "version": "3.8.16"
  }
 },
 "nbformat": 4,
 "nbformat_minor": 5
}
