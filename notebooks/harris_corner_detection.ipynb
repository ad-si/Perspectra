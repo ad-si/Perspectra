{
 "cells": [
  {
   "cell_type": "code",
   "execution_count": 2,
   "metadata": {
    "tags": []
   },
   "outputs": [
    {
     "ename": "ModuleNotFoundError",
     "evalue": "No module named 'imageio'",
     "output_type": "error",
     "traceback": [
      "\u001b[0;31m---------------------------------------------------------------------------\u001b[0m",
      "\u001b[0;31mModuleNotFoundError\u001b[0m                       Traceback (most recent call last)",
      "Cell \u001b[0;32mIn[2], line 4\u001b[0m\n\u001b[1;32m      1\u001b[0m \u001b[38;5;28;01mimport\u001b[39;00m \u001b[38;5;21;01mos\u001b[39;00m\n\u001b[1;32m      2\u001b[0m \u001b[38;5;28;01mimport\u001b[39;00m \u001b[38;5;21;01mlogging\u001b[39;00m\n\u001b[0;32m----> 4\u001b[0m \u001b[38;5;28;01mimport\u001b[39;00m \u001b[38;5;21;01mimageio\u001b[39;00m\u001b[38;5;21;01m.\u001b[39;00m\u001b[38;5;21;01mv3\u001b[39;00m \u001b[38;5;28;01mas\u001b[39;00m \u001b[38;5;21;01mimageio\u001b[39;00m\n\u001b[1;32m      5\u001b[0m \u001b[38;5;28;01mfrom\u001b[39;00m \u001b[38;5;21;01mskimage\u001b[39;00m\u001b[38;5;21;01m.\u001b[39;00m\u001b[38;5;21;01mfeature\u001b[39;00m \u001b[38;5;28;01mimport\u001b[39;00m (corner_harris, corner_peaks)\n\u001b[1;32m      6\u001b[0m \u001b[38;5;28;01mfrom\u001b[39;00m \u001b[38;5;21;01mskimage\u001b[39;00m\u001b[38;5;21;01m.\u001b[39;00m\u001b[38;5;21;01mutil\u001b[39;00m \u001b[38;5;28;01mimport\u001b[39;00m img_as_ubyte\n",
      "\u001b[0;31mModuleNotFoundError\u001b[0m: No module named 'imageio'"
     ]
    }
   ],
   "source": [
    "import os\n",
    "import logging\n",
    "\n",
    "import imageio.v3 as imageio\n",
    "from skimage.feature import (corner_harris, corner_peaks)\n",
    "from skimage.util import img_as_ubyte\n",
    "from skimage import (exposure)\n",
    "\n",
    "\n",
    "output_base_path = \"output\"\n",
    "debug = True\n",
    "\n",
    "\n",
    "class ImageDebugger:\n",
    "    def __init__(self, level, base_path):\n",
    "        self.level = level\n",
    "        self.base_path = base_path\n",
    "        self.step_counter = 0\n",
    "\n",
    "    def set_level(self, level):\n",
    "        self.level = level\n",
    "        return self\n",
    "\n",
    "    def set_base_path(self, base_path):\n",
    "        self.base_path = base_path\n",
    "        return self\n",
    "\n",
    "    def save(self, name, image):\n",
    "        if self.level != \"debug\":\n",
    "            return\n",
    "        self.step_counter += 1\n",
    "        image_path = os.path.join(\n",
    "            self.base_path,\n",
    "            f\"{self.step_counter}-{name}.png\",\n",
    "        )\n",
    "        imageio.imwrite(image_path, image)\n",
    "        logging.info(f\"Stored image: {image_path}\")\n",
    "        return self\n",
    "\n",
    "\n",
    "debugger = ImageDebugger(\n",
    "    level=\"debug\" if debug else \"\",\n",
    "    base_path=output_base_path,\n",
    ")\n",
    "\n",
    "\n",
    "def get_harris_peaks(image, sigma, k):\n",
    "    img_harris = corner_harris(image, sigma=sigma, k=k)\n",
    "    debugger.save(\n",
    "        \"harris_corner_response\",\n",
    "        img_as_ubyte(\n",
    "            exposure.rescale_intensity(\n",
    "                img_harris,\n",
    "            ),\n",
    "        ),\n",
    "    )\n",
    "\n",
    "    peaks_image = corner_peaks(\n",
    "        img_harris,\n",
    "        min_distance=5,  # Prevent inclusion of `image_corners`\n",
    "        indices=False,\n",
    "    )\n",
    "    debugger.save(\"harris_corner_peaks\", peaks_image)\n",
    "\n",
    "    peaks = corner_peaks(\n",
    "        img_harris,\n",
    "        min_distance=5,\n",
    "    )\n",
    "\n",
    "    return peaks"
   ]
  }
 ],
 "metadata": {
  "kernelspec": {
   "display_name": "Python 3 (ipykernel)",
   "language": "python",
   "name": "python3"
  },
  "language_info": {
   "codemirror_mode": {
    "name": "ipython",
    "version": 3
   },
   "file_extension": ".py",
   "mimetype": "text/x-python",
   "name": "python",
   "nbconvert_exporter": "python",
   "pygments_lexer": "ipython3",
   "version": "3.8.16"
  }
 },
 "nbformat": 4,
 "nbformat_minor": 4
}
