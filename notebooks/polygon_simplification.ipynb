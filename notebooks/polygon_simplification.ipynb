{
 "cells": [
  {
   "cell_type": "markdown",
   "id": "2fa639e8-ed95-422f-aa6e-1b19ad1d0668",
   "metadata": {},
   "source": [
    "# Polygon Simplification"
   ]
  },
  {
   "cell_type": "code",
   "execution_count": 1,
   "id": "88ed0509-5e73-449a-8d8c-a16ccae1a0cd",
   "metadata": {
    "tags": []
   },
   "outputs": [
    {
     "data": {
      "text/plain": [
       "array([[ 14, 140],\n",
       "       [234, 144],\n",
       "       [234,  47],\n",
       "       [ 44,  30],\n",
       "       [ 14, 140]])"
      ]
     },
     "execution_count": 1,
     "metadata": {},
     "output_type": "execute_result"
    }
   ],
   "source": [
    "import numpy as np\n",
    "from skimage.measure import approximate_polygon\n",
    "\n",
    "\n",
    "points = np.array([\n",
    "    [ 14,  46],\n",
    "    [ 14, 140],\n",
    "    [234, 144],\n",
    "    [234,  47],\n",
    "    [ 44,  30],\n",
    "])\n",
    "\n",
    "\n",
    "def vertices_to_edges(vertices):\n",
    "    edges = []\n",
    "    for index, coordinate in enumerate(vertices):\n",
    "        if index != (len(vertices) - 1):\n",
    "            edges.append([coordinate, vertices[index + 1]])\n",
    "    return edges\n",
    "\n",
    "\n",
    "# TODO: Does not seem to work\n",
    "def simplify_polygon(vertices, targetCount=4):\n",
    "    \"\"\"\n",
    "    Merge globally shortest edge with shortest neighbor\n",
    "    \"\"\"\n",
    "    if not np.array_equal(vertices[0], vertices[-1]):\n",
    "        raise ValueError(\n",
    "            f\"First vertex ({vertices[0]}) \\\n",
    "            and last ({vertices[-1]}) must be the same\"\n",
    "        )\n",
    "\n",
    "    edges = np.array(vertices_to_edges(vertices))\n",
    "\n",
    "    while len(edges) > targetCount:\n",
    "        edges_lengths = [np.linalg.norm(edge[0] - edge[1]) for edge in edges]\n",
    "        edge_min_index = np.argmin(edges_lengths)\n",
    "        edge_prev_length = edges_lengths[edge_min_index - 1]\n",
    "        edge_next_length = np.take(\n",
    "            edges_lengths,\n",
    "            edge_min_index + 1,\n",
    "            mode=\"wrap\",\n",
    "        )\n",
    "\n",
    "        if edge_prev_length < edge_next_length:\n",
    "            # Merge with previous edge\n",
    "            edges[edge_min_index][0] = edges[edge_min_index - 1][0]\n",
    "            edges = np.delete(edges, edge_min_index - 1, axis=0)\n",
    "            edges_lengths = np.delete(edges_lengths, edge_min_index - 1)\n",
    "        else:\n",
    "            # Merge with next edge\n",
    "            edges[edge_min_index][1] = edges[(edge_min_index + 1) % len(edges)][\n",
    "                1\n",
    "            ]\n",
    "            edges = np.delete(\n",
    "                edges, (edge_min_index + 1) % len(edges), axis=0\n",
    "            )\n",
    "            edges_lengths = np.delete(\n",
    "                edges_lengths, (edge_min_index + 1) % len(edges)\n",
    "            )\n",
    "\n",
    "    # Re-add first vertex to close polygon\n",
    "    vertices_new = np.append(edges[:, 0], [edges[0][0]], axis=0)\n",
    "    return vertices_new\n",
    "\n",
    "\n",
    "# Re-add first point to end of array\n",
    "points_wrapped = np.vstack((points, points[0]))\n",
    "simplify_polygon(points_wrapped)"
   ]
  },
  {
   "cell_type": "code",
   "execution_count": 2,
   "id": "1c144ca9",
   "metadata": {},
   "outputs": [
    {
     "name": "stdout",
     "output_type": "stream",
     "text": [
      "[[ 14  46]\n",
      " [ 14 140]\n",
      " [234 144]\n",
      " [234  47]\n",
      " [ 44  30]\n",
      " [ 14  46]]\n",
      "corners_reduced coordinates: [[ 14  46]\n",
      " [234 144]\n",
      " [234  47]\n",
      " [ 14  46]]\n"
     ]
    }
   ],
   "source": [
    "def reduce_polygon_to_4_points_new(corners_sorted, epsilon=0.1):\n",
    "    reduced_polygon = corners_sorted\n",
    "    while len(reduced_polygon) > 4:\n",
    "        reduced_polygon = approximate_polygon(\n",
    "            corners_sorted,\n",
    "            tolerance=epsilon,\n",
    "        )\n",
    "        epsilon += 0.1\n",
    "\n",
    "    return reduced_polygon\n",
    "\n",
    "\n",
    "# Re-add first point to end of array\n",
    "corners_sorted_wrapped = np.vstack((points, points[0]))\n",
    "\n",
    "print(corners_sorted_wrapped)\n",
    "\n",
    "# TODO: Still picks the wrong 4 points\n",
    "corners_reduced = reduce_polygon_to_4_points_new(corners_sorted_wrapped)\n",
    "\n",
    "print(f\"corners_reduced coordinates: {corners_reduced}\")"
   ]
  },
  {
   "cell_type": "code",
   "execution_count": 3,
   "id": "cf1439a5",
   "metadata": {
    "tags": []
   },
   "outputs": [
    {
     "data": {
      "text/plain": [
       "array([[ 14,  46],\n",
       "       [ 14, 140],\n",
       "       [234, 144],\n",
       "       [234,  47],\n",
       "       [ 44,  30]])"
      ]
     },
     "execution_count": 3,
     "metadata": {},
     "output_type": "execute_result"
    }
   ],
   "source": [
    "def reduce_polygon(polygon, angle_th=0, distance_th=0):\n",
    "    angle_th_rad = np.deg2rad(angle_th)\n",
    "    points_removed = [0]\n",
    "    \n",
    "    while len(points_removed):\n",
    "        points_removed = list()\n",
    "        for i in range(0, len(polygon) - 2, 2):\n",
    "            v01 = polygon[i - 1] - polygon[i]\n",
    "            v12 = polygon[i] - polygon[i + 1]\n",
    "            d01 = np.linalg.norm(v01)\n",
    "            d12 = np.linalg.norm(v12)\n",
    "            if d01 < distance_th and d12 < distance_th:\n",
    "                points_removed.append(i)\n",
    "                continue\n",
    "            angle = np.arccos(np.sum(v01 * v12) / (d01 * d12))\n",
    "            if angle < angle_th_rad:\n",
    "                points_removed.append(i)\n",
    "        polygon = np.delete(polygon, points_removed, axis=0)\n",
    "    \n",
    "    return polygon\n",
    "\n",
    "\n",
    "reduce_polygon(points, angle_th=1, distance_th=5)"
   ]
  }
 ],
 "metadata": {
  "kernelspec": {
   "display_name": "Python 3 (ipykernel)",
   "language": "python",
   "name": "python3"
  },
  "language_info": {
   "codemirror_mode": {
    "name": "ipython",
    "version": 3
   },
   "file_extension": ".py",
   "mimetype": "text/x-python",
   "name": "python",
   "nbconvert_exporter": "python",
   "pygments_lexer": "ipython3",
   "version": "3.11.3"
  }
 },
 "nbformat": 4,
 "nbformat_minor": 5
}
